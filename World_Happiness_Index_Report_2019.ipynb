{
 "cells": [
  {
   "cell_type": "code",
   "execution_count": 57,
   "metadata": {},
   "outputs": [],
   "source": [
    "import numpy as np\n",
    "import pandas as pd\n",
    "import matplotlib.pyplot as plt\n",
    "%matplotlib inline\n",
    "import seaborn as sns"
   ]
  },
  {
   "cell_type": "code",
   "execution_count": 58,
   "metadata": {},
   "outputs": [
    {
     "data": {
      "text/html": [
       "<div>\n",
       "<style scoped>\n",
       "    .dataframe tbody tr th:only-of-type {\n",
       "        vertical-align: middle;\n",
       "    }\n",
       "\n",
       "    .dataframe tbody tr th {\n",
       "        vertical-align: top;\n",
       "    }\n",
       "\n",
       "    .dataframe thead th {\n",
       "        text-align: right;\n",
       "    }\n",
       "</style>\n",
       "<table border=\"1\" class=\"dataframe\">\n",
       "  <thead>\n",
       "    <tr style=\"text-align: right;\">\n",
       "      <th></th>\n",
       "      <th>Country (region)</th>\n",
       "      <th>Ladder</th>\n",
       "      <th>SD of Ladder</th>\n",
       "      <th>Positive affect</th>\n",
       "      <th>Negative affect</th>\n",
       "      <th>Social support</th>\n",
       "      <th>Freedom</th>\n",
       "      <th>Corruption</th>\n",
       "      <th>Generosity</th>\n",
       "      <th>Log of GDP\\nper capita</th>\n",
       "      <th>Healthy life\\nexpectancy</th>\n",
       "    </tr>\n",
       "  </thead>\n",
       "  <tbody>\n",
       "    <tr>\n",
       "      <th>0</th>\n",
       "      <td>Finland</td>\n",
       "      <td>1</td>\n",
       "      <td>4</td>\n",
       "      <td>41.0</td>\n",
       "      <td>10.0</td>\n",
       "      <td>2.0</td>\n",
       "      <td>5.0</td>\n",
       "      <td>4.0</td>\n",
       "      <td>47.0</td>\n",
       "      <td>22.0</td>\n",
       "      <td>27.0</td>\n",
       "    </tr>\n",
       "    <tr>\n",
       "      <th>1</th>\n",
       "      <td>Denmark</td>\n",
       "      <td>2</td>\n",
       "      <td>13</td>\n",
       "      <td>24.0</td>\n",
       "      <td>26.0</td>\n",
       "      <td>4.0</td>\n",
       "      <td>6.0</td>\n",
       "      <td>3.0</td>\n",
       "      <td>22.0</td>\n",
       "      <td>14.0</td>\n",
       "      <td>23.0</td>\n",
       "    </tr>\n",
       "    <tr>\n",
       "      <th>2</th>\n",
       "      <td>Norway</td>\n",
       "      <td>3</td>\n",
       "      <td>8</td>\n",
       "      <td>16.0</td>\n",
       "      <td>29.0</td>\n",
       "      <td>3.0</td>\n",
       "      <td>3.0</td>\n",
       "      <td>8.0</td>\n",
       "      <td>11.0</td>\n",
       "      <td>7.0</td>\n",
       "      <td>12.0</td>\n",
       "    </tr>\n",
       "    <tr>\n",
       "      <th>3</th>\n",
       "      <td>Iceland</td>\n",
       "      <td>4</td>\n",
       "      <td>9</td>\n",
       "      <td>3.0</td>\n",
       "      <td>3.0</td>\n",
       "      <td>1.0</td>\n",
       "      <td>7.0</td>\n",
       "      <td>45.0</td>\n",
       "      <td>3.0</td>\n",
       "      <td>15.0</td>\n",
       "      <td>13.0</td>\n",
       "    </tr>\n",
       "    <tr>\n",
       "      <th>4</th>\n",
       "      <td>Netherlands</td>\n",
       "      <td>5</td>\n",
       "      <td>1</td>\n",
       "      <td>12.0</td>\n",
       "      <td>25.0</td>\n",
       "      <td>15.0</td>\n",
       "      <td>19.0</td>\n",
       "      <td>12.0</td>\n",
       "      <td>7.0</td>\n",
       "      <td>12.0</td>\n",
       "      <td>18.0</td>\n",
       "    </tr>\n",
       "  </tbody>\n",
       "</table>\n",
       "</div>"
      ],
      "text/plain": [
       "  Country (region)  Ladder  SD of Ladder  Positive affect  Negative affect  \\\n",
       "0          Finland       1             4             41.0             10.0   \n",
       "1          Denmark       2            13             24.0             26.0   \n",
       "2           Norway       3             8             16.0             29.0   \n",
       "3          Iceland       4             9              3.0              3.0   \n",
       "4      Netherlands       5             1             12.0             25.0   \n",
       "\n",
       "   Social support  Freedom  Corruption  Generosity  Log of GDP\\nper capita  \\\n",
       "0             2.0      5.0         4.0        47.0                    22.0   \n",
       "1             4.0      6.0         3.0        22.0                    14.0   \n",
       "2             3.0      3.0         8.0        11.0                     7.0   \n",
       "3             1.0      7.0        45.0         3.0                    15.0   \n",
       "4            15.0     19.0        12.0         7.0                    12.0   \n",
       "\n",
       "   Healthy life\\nexpectancy  \n",
       "0                      27.0  \n",
       "1                      23.0  \n",
       "2                      12.0  \n",
       "3                      13.0  \n",
       "4                      18.0  "
      ]
     },
     "execution_count": 58,
     "metadata": {},
     "output_type": "execute_result"
    }
   ],
   "source": [
    "df=pd.read_csv(r\"C:\\Users\\User\\Desktop\\bhavya\\datasets\\datasets_143758_336483_world-happiness-report-2019.csv\")\n",
    "df.head()"
   ]
  },
  {
   "cell_type": "code",
   "execution_count": 59,
   "metadata": {},
   "outputs": [
    {
     "data": {
      "text/plain": [
       "(156, 11)"
      ]
     },
     "execution_count": 59,
     "metadata": {},
     "output_type": "execute_result"
    }
   ],
   "source": [
    "df.shape"
   ]
  },
  {
   "cell_type": "code",
   "execution_count": 60,
   "metadata": {},
   "outputs": [
    {
     "name": "stdout",
     "output_type": "stream",
     "text": [
      "<class 'pandas.core.frame.DataFrame'>\n",
      "RangeIndex: 156 entries, 0 to 155\n",
      "Data columns (total 11 columns):\n",
      " #   Column                   Non-Null Count  Dtype  \n",
      "---  ------                   --------------  -----  \n",
      " 0   Country (region)         156 non-null    object \n",
      " 1   Ladder                   156 non-null    int64  \n",
      " 2   SD of Ladder             156 non-null    int64  \n",
      " 3   Positive affect          155 non-null    float64\n",
      " 4   Negative affect          155 non-null    float64\n",
      " 5   Social support           155 non-null    float64\n",
      " 6   Freedom                  155 non-null    float64\n",
      " 7   Corruption               148 non-null    float64\n",
      " 8   Generosity               155 non-null    float64\n",
      " 9   Log of GDP\n",
      "per capita    152 non-null    float64\n",
      " 10  Healthy life\n",
      "expectancy  150 non-null    float64\n",
      "dtypes: float64(8), int64(2), object(1)\n",
      "memory usage: 13.5+ KB\n"
     ]
    }
   ],
   "source": [
    "df.info()"
   ]
  },
  {
   "cell_type": "code",
   "execution_count": 61,
   "metadata": {},
   "outputs": [
    {
     "data": {
      "text/plain": [
       "Country (region)            0\n",
       "Ladder                      0\n",
       "SD of Ladder                0\n",
       "Positive affect             1\n",
       "Negative affect             1\n",
       "Social support              1\n",
       "Freedom                     1\n",
       "Corruption                  8\n",
       "Generosity                  1\n",
       "Log of GDP\\nper capita      4\n",
       "Healthy life\\nexpectancy    6\n",
       "dtype: int64"
      ]
     },
     "execution_count": 61,
     "metadata": {},
     "output_type": "execute_result"
    }
   ],
   "source": [
    "df.isnull().sum()"
   ]
  },
  {
   "cell_type": "code",
   "execution_count": 62,
   "metadata": {},
   "outputs": [
    {
     "data": {
      "text/html": [
       "<div>\n",
       "<style scoped>\n",
       "    .dataframe tbody tr th:only-of-type {\n",
       "        vertical-align: middle;\n",
       "    }\n",
       "\n",
       "    .dataframe tbody tr th {\n",
       "        vertical-align: top;\n",
       "    }\n",
       "\n",
       "    .dataframe thead th {\n",
       "        text-align: right;\n",
       "    }\n",
       "</style>\n",
       "<table border=\"1\" class=\"dataframe\">\n",
       "  <thead>\n",
       "    <tr style=\"text-align: right;\">\n",
       "      <th></th>\n",
       "      <th>Ladder</th>\n",
       "      <th>SD of Ladder</th>\n",
       "      <th>Positive affect</th>\n",
       "      <th>Negative affect</th>\n",
       "      <th>Social support</th>\n",
       "      <th>Freedom</th>\n",
       "      <th>Corruption</th>\n",
       "      <th>Generosity</th>\n",
       "      <th>Log of GDP\\nper capita</th>\n",
       "      <th>Healthy life\\nexpectancy</th>\n",
       "    </tr>\n",
       "  </thead>\n",
       "  <tbody>\n",
       "    <tr>\n",
       "      <th>count</th>\n",
       "      <td>156.000000</td>\n",
       "      <td>156.000000</td>\n",
       "      <td>155.000000</td>\n",
       "      <td>155.000000</td>\n",
       "      <td>155.000000</td>\n",
       "      <td>155.000000</td>\n",
       "      <td>148.000000</td>\n",
       "      <td>155.000000</td>\n",
       "      <td>152.000000</td>\n",
       "      <td>150.000000</td>\n",
       "    </tr>\n",
       "    <tr>\n",
       "      <th>mean</th>\n",
       "      <td>78.500000</td>\n",
       "      <td>78.500000</td>\n",
       "      <td>78.000000</td>\n",
       "      <td>78.000000</td>\n",
       "      <td>78.000000</td>\n",
       "      <td>78.000000</td>\n",
       "      <td>74.500000</td>\n",
       "      <td>78.000000</td>\n",
       "      <td>76.500000</td>\n",
       "      <td>75.500000</td>\n",
       "    </tr>\n",
       "    <tr>\n",
       "      <th>std</th>\n",
       "      <td>45.177428</td>\n",
       "      <td>45.177428</td>\n",
       "      <td>44.888751</td>\n",
       "      <td>44.888751</td>\n",
       "      <td>44.888751</td>\n",
       "      <td>44.888751</td>\n",
       "      <td>42.868014</td>\n",
       "      <td>44.888751</td>\n",
       "      <td>44.022721</td>\n",
       "      <td>43.445368</td>\n",
       "    </tr>\n",
       "    <tr>\n",
       "      <th>min</th>\n",
       "      <td>1.000000</td>\n",
       "      <td>1.000000</td>\n",
       "      <td>1.000000</td>\n",
       "      <td>1.000000</td>\n",
       "      <td>1.000000</td>\n",
       "      <td>1.000000</td>\n",
       "      <td>1.000000</td>\n",
       "      <td>1.000000</td>\n",
       "      <td>1.000000</td>\n",
       "      <td>1.000000</td>\n",
       "    </tr>\n",
       "    <tr>\n",
       "      <th>25%</th>\n",
       "      <td>39.750000</td>\n",
       "      <td>39.750000</td>\n",
       "      <td>39.500000</td>\n",
       "      <td>39.500000</td>\n",
       "      <td>39.500000</td>\n",
       "      <td>39.500000</td>\n",
       "      <td>37.750000</td>\n",
       "      <td>39.500000</td>\n",
       "      <td>38.750000</td>\n",
       "      <td>38.250000</td>\n",
       "    </tr>\n",
       "    <tr>\n",
       "      <th>50%</th>\n",
       "      <td>78.500000</td>\n",
       "      <td>78.500000</td>\n",
       "      <td>78.000000</td>\n",
       "      <td>78.000000</td>\n",
       "      <td>78.000000</td>\n",
       "      <td>78.000000</td>\n",
       "      <td>74.500000</td>\n",
       "      <td>78.000000</td>\n",
       "      <td>76.500000</td>\n",
       "      <td>75.500000</td>\n",
       "    </tr>\n",
       "    <tr>\n",
       "      <th>75%</th>\n",
       "      <td>117.250000</td>\n",
       "      <td>117.250000</td>\n",
       "      <td>116.500000</td>\n",
       "      <td>116.500000</td>\n",
       "      <td>116.500000</td>\n",
       "      <td>116.500000</td>\n",
       "      <td>111.250000</td>\n",
       "      <td>116.500000</td>\n",
       "      <td>114.250000</td>\n",
       "      <td>112.750000</td>\n",
       "    </tr>\n",
       "    <tr>\n",
       "      <th>max</th>\n",
       "      <td>156.000000</td>\n",
       "      <td>156.000000</td>\n",
       "      <td>155.000000</td>\n",
       "      <td>155.000000</td>\n",
       "      <td>155.000000</td>\n",
       "      <td>155.000000</td>\n",
       "      <td>148.000000</td>\n",
       "      <td>155.000000</td>\n",
       "      <td>152.000000</td>\n",
       "      <td>150.000000</td>\n",
       "    </tr>\n",
       "  </tbody>\n",
       "</table>\n",
       "</div>"
      ],
      "text/plain": [
       "           Ladder  SD of Ladder  Positive affect  Negative affect  \\\n",
       "count  156.000000    156.000000       155.000000       155.000000   \n",
       "mean    78.500000     78.500000        78.000000        78.000000   \n",
       "std     45.177428     45.177428        44.888751        44.888751   \n",
       "min      1.000000      1.000000         1.000000         1.000000   \n",
       "25%     39.750000     39.750000        39.500000        39.500000   \n",
       "50%     78.500000     78.500000        78.000000        78.000000   \n",
       "75%    117.250000    117.250000       116.500000       116.500000   \n",
       "max    156.000000    156.000000       155.000000       155.000000   \n",
       "\n",
       "       Social support     Freedom  Corruption  Generosity  \\\n",
       "count      155.000000  155.000000  148.000000  155.000000   \n",
       "mean        78.000000   78.000000   74.500000   78.000000   \n",
       "std         44.888751   44.888751   42.868014   44.888751   \n",
       "min          1.000000    1.000000    1.000000    1.000000   \n",
       "25%         39.500000   39.500000   37.750000   39.500000   \n",
       "50%         78.000000   78.000000   74.500000   78.000000   \n",
       "75%        116.500000  116.500000  111.250000  116.500000   \n",
       "max        155.000000  155.000000  148.000000  155.000000   \n",
       "\n",
       "       Log of GDP\\nper capita  Healthy life\\nexpectancy  \n",
       "count              152.000000                150.000000  \n",
       "mean                76.500000                 75.500000  \n",
       "std                 44.022721                 43.445368  \n",
       "min                  1.000000                  1.000000  \n",
       "25%                 38.750000                 38.250000  \n",
       "50%                 76.500000                 75.500000  \n",
       "75%                114.250000                112.750000  \n",
       "max                152.000000                150.000000  "
      ]
     },
     "execution_count": 62,
     "metadata": {},
     "output_type": "execute_result"
    }
   ],
   "source": [
    "df.describe()"
   ]
  },
  {
   "cell_type": "code",
   "execution_count": 63,
   "metadata": {},
   "outputs": [],
   "source": [
    "numerical_features=df.drop(['Country (region)'],axis=1)"
   ]
  },
  {
   "cell_type": "code",
   "execution_count": 64,
   "metadata": {},
   "outputs": [
    {
     "data": {
      "text/html": [
       "<div>\n",
       "<style scoped>\n",
       "    .dataframe tbody tr th:only-of-type {\n",
       "        vertical-align: middle;\n",
       "    }\n",
       "\n",
       "    .dataframe tbody tr th {\n",
       "        vertical-align: top;\n",
       "    }\n",
       "\n",
       "    .dataframe thead th {\n",
       "        text-align: right;\n",
       "    }\n",
       "</style>\n",
       "<table border=\"1\" class=\"dataframe\">\n",
       "  <thead>\n",
       "    <tr style=\"text-align: right;\">\n",
       "      <th></th>\n",
       "      <th>N</th>\n",
       "      <th>NMISS</th>\n",
       "      <th>SUM</th>\n",
       "      <th>MEAN</th>\n",
       "      <th>MEDIAN</th>\n",
       "      <th>STD</th>\n",
       "      <th>VAR</th>\n",
       "      <th>MIN</th>\n",
       "      <th>P1</th>\n",
       "      <th>P5</th>\n",
       "      <th>P10</th>\n",
       "      <th>P25</th>\n",
       "      <th>P50</th>\n",
       "      <th>P75</th>\n",
       "      <th>P90</th>\n",
       "      <th>P95</th>\n",
       "      <th>P99</th>\n",
       "      <th>MAX</th>\n",
       "    </tr>\n",
       "  </thead>\n",
       "  <tbody>\n",
       "    <tr>\n",
       "      <th>Ladder</th>\n",
       "      <td>156.0</td>\n",
       "      <td>0.0</td>\n",
       "      <td>12246.0</td>\n",
       "      <td>78.5</td>\n",
       "      <td>78.5</td>\n",
       "      <td>45.177428</td>\n",
       "      <td>2041.000000</td>\n",
       "      <td>1.0</td>\n",
       "      <td>2.55</td>\n",
       "      <td>8.75</td>\n",
       "      <td>16.5</td>\n",
       "      <td>39.75</td>\n",
       "      <td>78.5</td>\n",
       "      <td>117.25</td>\n",
       "      <td>140.5</td>\n",
       "      <td>148.25</td>\n",
       "      <td>154.45</td>\n",
       "      <td>156.0</td>\n",
       "    </tr>\n",
       "    <tr>\n",
       "      <th>SD of Ladder</th>\n",
       "      <td>156.0</td>\n",
       "      <td>0.0</td>\n",
       "      <td>12246.0</td>\n",
       "      <td>78.5</td>\n",
       "      <td>78.5</td>\n",
       "      <td>45.177428</td>\n",
       "      <td>2041.000000</td>\n",
       "      <td>1.0</td>\n",
       "      <td>2.55</td>\n",
       "      <td>8.75</td>\n",
       "      <td>16.5</td>\n",
       "      <td>39.75</td>\n",
       "      <td>78.5</td>\n",
       "      <td>117.25</td>\n",
       "      <td>140.5</td>\n",
       "      <td>148.25</td>\n",
       "      <td>154.45</td>\n",
       "      <td>156.0</td>\n",
       "    </tr>\n",
       "    <tr>\n",
       "      <th>Positive affect</th>\n",
       "      <td>155.0</td>\n",
       "      <td>1.0</td>\n",
       "      <td>12090.0</td>\n",
       "      <td>78.0</td>\n",
       "      <td>78.0</td>\n",
       "      <td>44.888751</td>\n",
       "      <td>2015.000000</td>\n",
       "      <td>1.0</td>\n",
       "      <td>2.54</td>\n",
       "      <td>8.70</td>\n",
       "      <td>16.4</td>\n",
       "      <td>39.50</td>\n",
       "      <td>78.0</td>\n",
       "      <td>116.50</td>\n",
       "      <td>139.6</td>\n",
       "      <td>147.30</td>\n",
       "      <td>153.46</td>\n",
       "      <td>155.0</td>\n",
       "    </tr>\n",
       "    <tr>\n",
       "      <th>Negative affect</th>\n",
       "      <td>155.0</td>\n",
       "      <td>1.0</td>\n",
       "      <td>12090.0</td>\n",
       "      <td>78.0</td>\n",
       "      <td>78.0</td>\n",
       "      <td>44.888751</td>\n",
       "      <td>2015.000000</td>\n",
       "      <td>1.0</td>\n",
       "      <td>2.54</td>\n",
       "      <td>8.70</td>\n",
       "      <td>16.4</td>\n",
       "      <td>39.50</td>\n",
       "      <td>78.0</td>\n",
       "      <td>116.50</td>\n",
       "      <td>139.6</td>\n",
       "      <td>147.30</td>\n",
       "      <td>153.46</td>\n",
       "      <td>155.0</td>\n",
       "    </tr>\n",
       "    <tr>\n",
       "      <th>Social support</th>\n",
       "      <td>155.0</td>\n",
       "      <td>1.0</td>\n",
       "      <td>12090.0</td>\n",
       "      <td>78.0</td>\n",
       "      <td>78.0</td>\n",
       "      <td>44.888751</td>\n",
       "      <td>2015.000000</td>\n",
       "      <td>1.0</td>\n",
       "      <td>2.54</td>\n",
       "      <td>8.70</td>\n",
       "      <td>16.4</td>\n",
       "      <td>39.50</td>\n",
       "      <td>78.0</td>\n",
       "      <td>116.50</td>\n",
       "      <td>139.6</td>\n",
       "      <td>147.30</td>\n",
       "      <td>153.46</td>\n",
       "      <td>155.0</td>\n",
       "    </tr>\n",
       "    <tr>\n",
       "      <th>Freedom</th>\n",
       "      <td>155.0</td>\n",
       "      <td>1.0</td>\n",
       "      <td>12090.0</td>\n",
       "      <td>78.0</td>\n",
       "      <td>78.0</td>\n",
       "      <td>44.888751</td>\n",
       "      <td>2015.000000</td>\n",
       "      <td>1.0</td>\n",
       "      <td>2.54</td>\n",
       "      <td>8.70</td>\n",
       "      <td>16.4</td>\n",
       "      <td>39.50</td>\n",
       "      <td>78.0</td>\n",
       "      <td>116.50</td>\n",
       "      <td>139.6</td>\n",
       "      <td>147.30</td>\n",
       "      <td>153.46</td>\n",
       "      <td>155.0</td>\n",
       "    </tr>\n",
       "    <tr>\n",
       "      <th>Corruption</th>\n",
       "      <td>148.0</td>\n",
       "      <td>8.0</td>\n",
       "      <td>11026.0</td>\n",
       "      <td>74.5</td>\n",
       "      <td>74.5</td>\n",
       "      <td>42.868014</td>\n",
       "      <td>1837.666667</td>\n",
       "      <td>1.0</td>\n",
       "      <td>2.47</td>\n",
       "      <td>8.35</td>\n",
       "      <td>15.7</td>\n",
       "      <td>37.75</td>\n",
       "      <td>74.5</td>\n",
       "      <td>111.25</td>\n",
       "      <td>133.3</td>\n",
       "      <td>140.65</td>\n",
       "      <td>146.53</td>\n",
       "      <td>148.0</td>\n",
       "    </tr>\n",
       "    <tr>\n",
       "      <th>Generosity</th>\n",
       "      <td>155.0</td>\n",
       "      <td>1.0</td>\n",
       "      <td>12090.0</td>\n",
       "      <td>78.0</td>\n",
       "      <td>78.0</td>\n",
       "      <td>44.888751</td>\n",
       "      <td>2015.000000</td>\n",
       "      <td>1.0</td>\n",
       "      <td>2.54</td>\n",
       "      <td>8.70</td>\n",
       "      <td>16.4</td>\n",
       "      <td>39.50</td>\n",
       "      <td>78.0</td>\n",
       "      <td>116.50</td>\n",
       "      <td>139.6</td>\n",
       "      <td>147.30</td>\n",
       "      <td>153.46</td>\n",
       "      <td>155.0</td>\n",
       "    </tr>\n",
       "    <tr>\n",
       "      <th>Log of GDP\\nper capita</th>\n",
       "      <td>152.0</td>\n",
       "      <td>4.0</td>\n",
       "      <td>11628.0</td>\n",
       "      <td>76.5</td>\n",
       "      <td>76.5</td>\n",
       "      <td>44.022721</td>\n",
       "      <td>1938.000000</td>\n",
       "      <td>1.0</td>\n",
       "      <td>2.51</td>\n",
       "      <td>8.55</td>\n",
       "      <td>16.1</td>\n",
       "      <td>38.75</td>\n",
       "      <td>76.5</td>\n",
       "      <td>114.25</td>\n",
       "      <td>136.9</td>\n",
       "      <td>144.45</td>\n",
       "      <td>150.49</td>\n",
       "      <td>152.0</td>\n",
       "    </tr>\n",
       "    <tr>\n",
       "      <th>Healthy life\\nexpectancy</th>\n",
       "      <td>150.0</td>\n",
       "      <td>6.0</td>\n",
       "      <td>11325.0</td>\n",
       "      <td>75.5</td>\n",
       "      <td>75.5</td>\n",
       "      <td>43.445368</td>\n",
       "      <td>1887.500000</td>\n",
       "      <td>1.0</td>\n",
       "      <td>2.49</td>\n",
       "      <td>8.45</td>\n",
       "      <td>15.9</td>\n",
       "      <td>38.25</td>\n",
       "      <td>75.5</td>\n",
       "      <td>112.75</td>\n",
       "      <td>135.1</td>\n",
       "      <td>142.55</td>\n",
       "      <td>148.51</td>\n",
       "      <td>150.0</td>\n",
       "    </tr>\n",
       "  </tbody>\n",
       "</table>\n",
       "</div>"
      ],
      "text/plain": [
       "                              N  NMISS      SUM  MEAN  MEDIAN        STD  \\\n",
       "Ladder                    156.0    0.0  12246.0  78.5    78.5  45.177428   \n",
       "SD of Ladder              156.0    0.0  12246.0  78.5    78.5  45.177428   \n",
       "Positive affect           155.0    1.0  12090.0  78.0    78.0  44.888751   \n",
       "Negative affect           155.0    1.0  12090.0  78.0    78.0  44.888751   \n",
       "Social support            155.0    1.0  12090.0  78.0    78.0  44.888751   \n",
       "Freedom                   155.0    1.0  12090.0  78.0    78.0  44.888751   \n",
       "Corruption                148.0    8.0  11026.0  74.5    74.5  42.868014   \n",
       "Generosity                155.0    1.0  12090.0  78.0    78.0  44.888751   \n",
       "Log of GDP\\nper capita    152.0    4.0  11628.0  76.5    76.5  44.022721   \n",
       "Healthy life\\nexpectancy  150.0    6.0  11325.0  75.5    75.5  43.445368   \n",
       "\n",
       "                                  VAR  MIN    P1    P5   P10    P25   P50  \\\n",
       "Ladder                    2041.000000  1.0  2.55  8.75  16.5  39.75  78.5   \n",
       "SD of Ladder              2041.000000  1.0  2.55  8.75  16.5  39.75  78.5   \n",
       "Positive affect           2015.000000  1.0  2.54  8.70  16.4  39.50  78.0   \n",
       "Negative affect           2015.000000  1.0  2.54  8.70  16.4  39.50  78.0   \n",
       "Social support            2015.000000  1.0  2.54  8.70  16.4  39.50  78.0   \n",
       "Freedom                   2015.000000  1.0  2.54  8.70  16.4  39.50  78.0   \n",
       "Corruption                1837.666667  1.0  2.47  8.35  15.7  37.75  74.5   \n",
       "Generosity                2015.000000  1.0  2.54  8.70  16.4  39.50  78.0   \n",
       "Log of GDP\\nper capita    1938.000000  1.0  2.51  8.55  16.1  38.75  76.5   \n",
       "Healthy life\\nexpectancy  1887.500000  1.0  2.49  8.45  15.9  38.25  75.5   \n",
       "\n",
       "                             P75    P90     P95     P99    MAX  \n",
       "Ladder                    117.25  140.5  148.25  154.45  156.0  \n",
       "SD of Ladder              117.25  140.5  148.25  154.45  156.0  \n",
       "Positive affect           116.50  139.6  147.30  153.46  155.0  \n",
       "Negative affect           116.50  139.6  147.30  153.46  155.0  \n",
       "Social support            116.50  139.6  147.30  153.46  155.0  \n",
       "Freedom                   116.50  139.6  147.30  153.46  155.0  \n",
       "Corruption                111.25  133.3  140.65  146.53  148.0  \n",
       "Generosity                116.50  139.6  147.30  153.46  155.0  \n",
       "Log of GDP\\nper capita    114.25  136.9  144.45  150.49  152.0  \n",
       "Healthy life\\nexpectancy  112.75  135.1  142.55  148.51  150.0  "
      ]
     },
     "execution_count": 64,
     "metadata": {},
     "output_type": "execute_result"
    }
   ],
   "source": [
    "def var_summary(x):\n",
    "    return pd.Series([x.count(), x.isnull().sum(), x.sum(), x.mean(), x.median(),  x.std(), x.var(), x.min(), x.dropna().quantile(0.01), x.dropna().quantile(0.05),x.dropna().quantile(0.10),x.dropna().quantile(0.25),x.dropna().quantile(0.50),x.dropna().quantile(0.75), x.dropna().quantile(0.90),x.dropna().quantile(0.95), x.dropna().quantile(0.99),x.max()],\n",
    "                  index=['N', 'NMISS', 'SUM', 'MEAN','MEDIAN', 'STD', 'VAR', 'MIN', 'P1' , 'P5' ,'P10' ,'P25' ,'P50' ,'P75' ,'P90' ,'P95' ,'P99' ,'MAX'])\n",
    "\n",
    "num_summary=numerical_features.apply(lambda x: var_summary(x)).T\n",
    "num_summary"
   ]
  },
  {
   "cell_type": "code",
   "execution_count": 65,
   "metadata": {},
   "outputs": [],
   "source": [
    "#since there are no outliers in the data, filling the null values with mean values for that column\n",
    "df[\"Positive affect\"].fillna(df['Positive affect'].mean(), inplace = True)\n",
    "df[\"Negative affect\"].fillna(df['Negative affect'].mean(), inplace = True)\n",
    "df[\"Social support\"].fillna(df['Social support'].mean(), inplace = True)\n",
    "df[\"Freedom\"].fillna(df['Freedom'].mean(), inplace = True)\n",
    "df[\"Corruption\"].fillna(df['Corruption'].mean(), inplace = True)\n",
    "df[\"Generosity\"].fillna(df['Generosity'].mean(), inplace = True)\n",
    "df[\"Log of GDP\\nper capita\"].fillna(df['Log of GDP\\nper capita'].mean(), inplace = True)\n",
    "df[\"Healthy life\\nexpectancy\"].fillna(df['Healthy life\\nexpectancy'].mean(), inplace = True)"
   ]
  },
  {
   "cell_type": "code",
   "execution_count": 66,
   "metadata": {},
   "outputs": [
    {
     "data": {
      "text/plain": [
       "Country (region)            0\n",
       "Ladder                      0\n",
       "SD of Ladder                0\n",
       "Positive affect             0\n",
       "Negative affect             0\n",
       "Social support              0\n",
       "Freedom                     0\n",
       "Corruption                  0\n",
       "Generosity                  0\n",
       "Log of GDP\\nper capita      0\n",
       "Healthy life\\nexpectancy    0\n",
       "dtype: int64"
      ]
     },
     "execution_count": 66,
     "metadata": {},
     "output_type": "execute_result"
    }
   ],
   "source": [
    "df.isnull().sum()"
   ]
  },
  {
   "cell_type": "code",
   "execution_count": 67,
   "metadata": {},
   "outputs": [
    {
     "data": {
      "text/plain": [
       "([0,\n",
       "  1,\n",
       "  2,\n",
       "  3,\n",
       "  4,\n",
       "  5,\n",
       "  6,\n",
       "  7,\n",
       "  8,\n",
       "  9,\n",
       "  10,\n",
       "  11,\n",
       "  12,\n",
       "  13,\n",
       "  14,\n",
       "  15,\n",
       "  16,\n",
       "  17,\n",
       "  18,\n",
       "  19,\n",
       "  20,\n",
       "  21,\n",
       "  22,\n",
       "  23,\n",
       "  24,\n",
       "  25,\n",
       "  26,\n",
       "  27,\n",
       "  28,\n",
       "  29,\n",
       "  30,\n",
       "  31,\n",
       "  32,\n",
       "  33,\n",
       "  34,\n",
       "  35,\n",
       "  36,\n",
       "  37,\n",
       "  38,\n",
       "  39,\n",
       "  40,\n",
       "  41,\n",
       "  42,\n",
       "  43,\n",
       "  44,\n",
       "  45,\n",
       "  46,\n",
       "  47,\n",
       "  48,\n",
       "  49],\n",
       " <a list of 50 Text xticklabel objects>)"
      ]
     },
     "execution_count": 67,
     "metadata": {},
     "output_type": "execute_result"
    },
    {
     "data": {
      "image/png": "[encoded data removed]",
      "text/plain": [
       "<Figure size 1080x360 with 1 Axes>"
      ]
     },
     "metadata": {
      "needs_background": "light"
     },
     "output_type": "display_data"
    }
   ],
   "source": [
    "plt.figure(figsize=(15,5))\n",
    "sns.scatterplot(x='Country (region)',y='Log of GDP\\nper capita',data=df[:50], marker='^', color='red')\n",
    "plt.xticks(rotation=90)"
   ]
  },
  {
   "cell_type": "code",
   "execution_count": 68,
   "metadata": {},
   "outputs": [],
   "source": [
    "#finding correlations between the variables"
   ]
  },
  {
   "cell_type": "code",
   "execution_count": 69,
   "metadata": {},
   "outputs": [
    {
     "data": {
      "text/html": [
       "<div>\n",
       "<style scoped>\n",
       "    .dataframe tbody tr th:only-of-type {\n",
       "        vertical-align: middle;\n",
       "    }\n",
       "\n",
       "    .dataframe tbody tr th {\n",
       "        vertical-align: top;\n",
       "    }\n",
       "\n",
       "    .dataframe thead th {\n",
       "        text-align: right;\n",
       "    }\n",
       "</style>\n",
       "<table border=\"1\" class=\"dataframe\">\n",
       "  <thead>\n",
       "    <tr style=\"text-align: right;\">\n",
       "      <th></th>\n",
       "      <th>Ladder</th>\n",
       "      <th>SD of Ladder</th>\n",
       "      <th>Positive affect</th>\n",
       "      <th>Negative affect</th>\n",
       "      <th>Social support</th>\n",
       "      <th>Freedom</th>\n",
       "      <th>Corruption</th>\n",
       "      <th>Generosity</th>\n",
       "      <th>Log of GDP\\nper capita</th>\n",
       "      <th>Healthy life\\nexpectancy</th>\n",
       "    </tr>\n",
       "  </thead>\n",
       "  <tbody>\n",
       "    <tr>\n",
       "      <th>Ladder</th>\n",
       "      <td>1.000000</td>\n",
       "      <td>0.539362</td>\n",
       "      <td>0.489512</td>\n",
       "      <td>0.521598</td>\n",
       "      <td>0.814649</td>\n",
       "      <td>0.544642</td>\n",
       "      <td>0.186494</td>\n",
       "      <td>0.495912</td>\n",
       "      <td>0.801488</td>\n",
       "      <td>0.805928</td>\n",
       "    </tr>\n",
       "    <tr>\n",
       "      <th>SD of Ladder</th>\n",
       "      <td>0.539362</td>\n",
       "      <td>1.000000</td>\n",
       "      <td>0.085373</td>\n",
       "      <td>0.619211</td>\n",
       "      <td>0.599410</td>\n",
       "      <td>0.251834</td>\n",
       "      <td>0.254893</td>\n",
       "      <td>0.392119</td>\n",
       "      <td>0.622593</td>\n",
       "      <td>0.603447</td>\n",
       "    </tr>\n",
       "    <tr>\n",
       "      <th>Positive affect</th>\n",
       "      <td>0.489512</td>\n",
       "      <td>0.085373</td>\n",
       "      <td>1.000000</td>\n",
       "      <td>0.389697</td>\n",
       "      <td>0.386269</td>\n",
       "      <td>0.681770</td>\n",
       "      <td>0.205777</td>\n",
       "      <td>0.354877</td>\n",
       "      <td>0.291743</td>\n",
       "      <td>0.324578</td>\n",
       "    </tr>\n",
       "    <tr>\n",
       "      <th>Negative affect</th>\n",
       "      <td>0.521598</td>\n",
       "      <td>0.619211</td>\n",
       "      <td>0.389697</td>\n",
       "      <td>1.000000</td>\n",
       "      <td>0.621888</td>\n",
       "      <td>0.430241</td>\n",
       "      <td>0.157004</td>\n",
       "      <td>0.338226</td>\n",
       "      <td>0.523199</td>\n",
       "      <td>0.473442</td>\n",
       "    </tr>\n",
       "    <tr>\n",
       "      <th>Social support</th>\n",
       "      <td>0.814649</td>\n",
       "      <td>0.599410</td>\n",
       "      <td>0.386269</td>\n",
       "      <td>0.621888</td>\n",
       "      <td>1.000000</td>\n",
       "      <td>0.448903</td>\n",
       "      <td>0.117153</td>\n",
       "      <td>0.442432</td>\n",
       "      <td>0.751087</td>\n",
       "      <td>0.737408</td>\n",
       "    </tr>\n",
       "    <tr>\n",
       "      <th>Freedom</th>\n",
       "      <td>0.544642</td>\n",
       "      <td>0.251834</td>\n",
       "      <td>0.681770</td>\n",
       "      <td>0.430241</td>\n",
       "      <td>0.448903</td>\n",
       "      <td>1.000000</td>\n",
       "      <td>0.373821</td>\n",
       "      <td>0.489991</td>\n",
       "      <td>0.398620</td>\n",
       "      <td>0.411450</td>\n",
       "    </tr>\n",
       "    <tr>\n",
       "      <th>Corruption</th>\n",
       "      <td>0.186494</td>\n",
       "      <td>0.254893</td>\n",
       "      <td>0.205777</td>\n",
       "      <td>0.157004</td>\n",
       "      <td>0.117153</td>\n",
       "      <td>0.373821</td>\n",
       "      <td>1.000000</td>\n",
       "      <td>0.259616</td>\n",
       "      <td>0.188692</td>\n",
       "      <td>0.119435</td>\n",
       "    </tr>\n",
       "    <tr>\n",
       "      <th>Generosity</th>\n",
       "      <td>0.495912</td>\n",
       "      <td>0.392119</td>\n",
       "      <td>0.354877</td>\n",
       "      <td>0.338226</td>\n",
       "      <td>0.442432</td>\n",
       "      <td>0.489991</td>\n",
       "      <td>0.259616</td>\n",
       "      <td>1.000000</td>\n",
       "      <td>0.472473</td>\n",
       "      <td>0.419019</td>\n",
       "    </tr>\n",
       "    <tr>\n",
       "      <th>Log of GDP\\nper capita</th>\n",
       "      <td>0.801488</td>\n",
       "      <td>0.622593</td>\n",
       "      <td>0.291743</td>\n",
       "      <td>0.523199</td>\n",
       "      <td>0.751087</td>\n",
       "      <td>0.398620</td>\n",
       "      <td>0.188692</td>\n",
       "      <td>0.472473</td>\n",
       "      <td>1.000000</td>\n",
       "      <td>0.827036</td>\n",
       "    </tr>\n",
       "    <tr>\n",
       "      <th>Healthy life\\nexpectancy</th>\n",
       "      <td>0.805928</td>\n",
       "      <td>0.603447</td>\n",
       "      <td>0.324578</td>\n",
       "      <td>0.473442</td>\n",
       "      <td>0.737408</td>\n",
       "      <td>0.411450</td>\n",
       "      <td>0.119435</td>\n",
       "      <td>0.419019</td>\n",
       "      <td>0.827036</td>\n",
       "      <td>1.000000</td>\n",
       "    </tr>\n",
       "  </tbody>\n",
       "</table>\n",
       "</div>"
      ],
      "text/plain": [
       "                            Ladder  SD of Ladder  Positive affect  \\\n",
       "Ladder                    1.000000      0.539362         0.489512   \n",
       "SD of Ladder              0.539362      1.000000         0.085373   \n",
       "Positive affect           0.489512      0.085373         1.000000   \n",
       "Negative affect           0.521598      0.619211         0.389697   \n",
       "Social support            0.814649      0.599410         0.386269   \n",
       "Freedom                   0.544642      0.251834         0.681770   \n",
       "Corruption                0.186494      0.254893         0.205777   \n",
       "Generosity                0.495912      0.392119         0.354877   \n",
       "Log of GDP\\nper capita    0.801488      0.622593         0.291743   \n",
       "Healthy life\\nexpectancy  0.805928      0.603447         0.324578   \n",
       "\n",
       "                          Negative affect  Social support   Freedom  \\\n",
       "Ladder                           0.521598        0.814649  0.544642   \n",
       "SD of Ladder                     0.619211        0.599410  0.251834   \n",
       "Positive affect                  0.389697        0.386269  0.681770   \n",
       "Negative affect                  1.000000        0.621888  0.430241   \n",
       "Social support                   0.621888        1.000000  0.448903   \n",
       "Freedom                          0.430241        0.448903  1.000000   \n",
       "Corruption                       0.157004        0.117153  0.373821   \n",
       "Generosity                       0.338226        0.442432  0.489991   \n",
       "Log of GDP\\nper capita           0.523199        0.751087  0.398620   \n",
       "Healthy life\\nexpectancy         0.473442        0.737408  0.411450   \n",
       "\n",
       "                          Corruption  Generosity  Log of GDP\\nper capita  \\\n",
       "Ladder                      0.186494    0.495912                0.801488   \n",
       "SD of Ladder                0.254893    0.392119                0.622593   \n",
       "Positive affect             0.205777    0.354877                0.291743   \n",
       "Negative affect             0.157004    0.338226                0.523199   \n",
       "Social support              0.117153    0.442432                0.751087   \n",
       "Freedom                     0.373821    0.489991                0.398620   \n",
       "Corruption                  1.000000    0.259616                0.188692   \n",
       "Generosity                  0.259616    1.000000                0.472473   \n",
       "Log of GDP\\nper capita      0.188692    0.472473                1.000000   \n",
       "Healthy life\\nexpectancy    0.119435    0.419019                0.827036   \n",
       "\n",
       "                          Healthy life\\nexpectancy  \n",
       "Ladder                                    0.805928  \n",
       "SD of Ladder                              0.603447  \n",
       "Positive affect                           0.324578  \n",
       "Negative affect                           0.473442  \n",
       "Social support                            0.737408  \n",
       "Freedom                                   0.411450  \n",
       "Corruption                                0.119435  \n",
       "Generosity                                0.419019  \n",
       "Log of GDP\\nper capita                    0.827036  \n",
       "Healthy life\\nexpectancy                  1.000000  "
      ]
     },
     "execution_count": 69,
     "metadata": {},
     "output_type": "execute_result"
    }
   ],
   "source": [
    "df.corr()"
   ]
  },
  {
   "cell_type": "code",
   "execution_count": 70,
   "metadata": {},
   "outputs": [
    {
     "data": {
      "text/plain": [
       "<matplotlib.axes._subplots.AxesSubplot at 0x13d086cd6c8>"
      ]
     },
     "execution_count": 70,
     "metadata": {},
     "output_type": "execute_result"
    },
    {
     "data": {
      "image/png": "[encoded data removed]",
      "text/plain": [
       "<Figure size 432x288 with 2 Axes>"
      ]
     },
     "metadata": {
      "needs_background": "light"
     },
     "output_type": "display_data"
    }
   ],
   "source": [
    "sns.heatmap(df.corr())"
   ]
  },
  {
   "cell_type": "code",
   "execution_count": 71,
   "metadata": {},
   "outputs": [],
   "source": [
    "#splittig countries into continents\n",
    "asia = [\"Israel\", \"United Arab Emirates\", \"Singapore\", \"Thailand\", \"Taiwan Province of China\",\n",
    "                 \"Qatar\", \"Saudi Arabia\", \"Kuwait\", \"Bahrain\", \"Malaysia\", \"Uzbekistan\", \"Japan\",\n",
    "                 \"South Korea\", \"Turkmenistan\", \"Kazakhstan\", \"Turkey\", \"Hong Kong S.A.R., China\", \"Philippines\",\n",
    "                 \"Jordan\", \"China\", \"Pakistan\", \"Indonesia\", \"Azerbaijan\", \"Lebanon\", \"Vietnam\",\n",
    "                 \"Tajikistan\", \"Bhutan\", \"Kyrgyzstan\", \"Nepal\", \"Mongolia\", \"Palestinian Territories\",\n",
    "                 \"Iran\", \"Bangladesh\", \"Myanmar\", \"Iraq\", \"Sri Lanka\", \"Armenia\", \"India\", \"Georgia\",\n",
    "                 \"Cambodia\", \"Afghanistan\", \"Yemen\", \"Syria\"]\n",
    "europe = [\"Norway\", \"Denmark\", \"Iceland\", \"Switzerland\", \"Finland\",\n",
    "                 \"Netherlands\", \"Sweden\", \"Austria\", \"Ireland\", \"Germany\",\n",
    "                 \"Belgium\", \"Luxembourg\", \"United Kingdom\", \"Czech Republic\",\n",
    "                 \"Malta\", \"France\", \"Spain\", \"Slovakia\", \"Poland\", \"Italy\",\n",
    "                 \"Russia\", \"Lithuania\", \"Latvia\", \"Moldova\", \"Romania\",\n",
    "                 \"Slovenia\", \"North Cyprus\", \"Cyprus\", \"Estonia\", \"Belarus\",\n",
    "                 \"Serbia\", \"Hungary\", \"Croatia\", \"Kosovo\", \"Montenegro\",\n",
    "                 \"Greece\", \"Portugal\", \"Bosnia and Herzegovina\", \"Macedonia\",\n",
    "                 \"Bulgaria\", \"Albania\", \"Ukraine\"]\n",
    "north_america = [\"Canada\", \"Costa Rica\", \"United States\", \"Mexico\",  \n",
    "                 \"Panama\",\"Trinidad and Tobago\", \"El Salvador\", \"Belize\", \"Guatemala\",\n",
    "                 \"Jamaica\", \"Nicaragua\", \"Dominican Republic\", \"Honduras\",\n",
    "                 \"Haiti\"]\n",
    "south_america = [\"Chile\", \"Brazil\", \"Argentina\", \"Uruguay\",\n",
    "                 \"Colombia\", \"Ecuador\", \"Bolivia\", \"Peru\",\n",
    "                 \"Paraguay\", \"Venezuela\"]\n",
    "australia = [\"New Zealand\", \"Australia\"]\n",
    "d_asia = dict.fromkeys(asia, 'Asia')\n",
    "d_europe = dict.fromkeys(europe, 'Europe')\n",
    "d_north_america = dict.fromkeys(north_america, 'North America')\n",
    "d_south_america = dict.fromkeys(south_america, 'South America')\n",
    "d_australia = dict.fromkeys(australia, 'Australia')\n",
    "continent_dict = {**d_asia, **d_europe, **d_north_america, **d_south_america, **d_australia}\n",
    "df[\"continent\"] = df[\"Country (region)\"].map(continent_dict)\n",
    "df.continent.fillna(\"Africa\", inplace=True)"
   ]
  },
  {
   "cell_type": "code",
   "execution_count": 72,
   "metadata": {},
   "outputs": [
    {
     "data": {
      "text/plain": [
       "<matplotlib.axes._subplots.AxesSubplot at 0x13d07a680c8>"
      ]
     },
     "execution_count": 72,
     "metadata": {},
     "output_type": "execute_result"
    },
    {
     "data": {
      "image/png": "[encoded data removed]",
      "text/plain": [
       "<Figure size 432x288 with 1 Axes>"
      ]
     },
     "metadata": {
      "needs_background": "light"
     },
     "output_type": "display_data"
    }
   ],
   "source": [
    "sns.barplot(x=\"Healthy life\\nexpectancy\", y=\"continent\", data=df, palette='Accent')"
   ]
  },
  {
   "cell_type": "code",
   "execution_count": 73,
   "metadata": {},
   "outputs": [
    {
     "data": {
      "text/plain": [
       "<matplotlib.axes._subplots.AxesSubplot at 0x13d08780208>"
      ]
     },
     "execution_count": 73,
     "metadata": {},
     "output_type": "execute_result"
    },
    {
     "data": {
      "image/png": "[encoded data removed]",
      "text/plain": [
       "<Figure size 432x288 with 1 Axes>"
      ]
     },
     "metadata": {
      "needs_background": "light"
     },
     "output_type": "display_data"
    }
   ],
   "source": [
    "sns.barplot(x='Generosity',y='continent', data=df)"
   ]
  },
  {
   "cell_type": "code",
   "execution_count": 74,
   "metadata": {},
   "outputs": [
    {
     "data": {
      "text/plain": [
       "<matplotlib.axes._subplots.AxesSubplot at 0x13d088098c8>"
      ]
     },
     "execution_count": 74,
     "metadata": {},
     "output_type": "execute_result"
    },
    {
     "data": {
      "image/png": "[encoded data removed]",
      "text/plain": [
       "<Figure size 432x288 with 1 Axes>"
      ]
     },
     "metadata": {
      "needs_background": "light"
     },
     "output_type": "display_data"
    }
   ],
   "source": [
    "sns.barplot(x='Freedom',y='continent',data=df,palette='Accent')"
   ]
  },
  {
   "cell_type": "code",
   "execution_count": 75,
   "metadata": {},
   "outputs": [
    {
     "data": {
      "text/plain": [
       "<matplotlib.axes._subplots.AxesSubplot at 0x13d08875808>"
      ]
     },
     "execution_count": 75,
     "metadata": {},
     "output_type": "execute_result"
    },
    {
     "data": {
      "image/png": "[encoded data removed]",
      "text/plain": [
       "<Figure size 432x288 with 1 Axes>"
      ]
     },
     "metadata": {
      "needs_background": "light"
     },
     "output_type": "display_data"
    }
   ],
   "source": [
    "sns.barplot(x='Social support',y='continent',data=df)"
   ]
  },
  {
   "cell_type": "code",
   "execution_count": 76,
   "metadata": {},
   "outputs": [
    {
     "data": {
      "text/plain": [
       "<matplotlib.axes._subplots.AxesSubplot at 0x13d09a9af08>"
      ]
     },
     "execution_count": 76,
     "metadata": {},
     "output_type": "execute_result"
    },
    {
     "data": {
      "image/png": "[encoded data removed]",
      "text/plain": [
       "<Figure size 432x288 with 1 Axes>"
      ]
     },
     "metadata": {
      "needs_background": "light"
     },
     "output_type": "display_data"
    }
   ],
   "source": [
    "sns.scatterplot(x='Healthy life\\nexpectancy',y='Log of GDP\\nper capita',data=df)"
   ]
  },
  {
   "cell_type": "markdown",
   "metadata": {},
   "source": [
    "#The graph shows there exists a positive relationship between log of GDP per capita and Health/life Expectancy. Also, if we calculate the correlation between these two we get 0.82 which is good."
   ]
  },
  {
   "cell_type": "code",
   "execution_count": 77,
   "metadata": {},
   "outputs": [
    {
     "data": {
      "text/html": [
       "<div>\n",
       "<style scoped>\n",
       "    .dataframe tbody tr th:only-of-type {\n",
       "        vertical-align: middle;\n",
       "    }\n",
       "\n",
       "    .dataframe tbody tr th {\n",
       "        vertical-align: top;\n",
       "    }\n",
       "\n",
       "    .dataframe thead th {\n",
       "        text-align: right;\n",
       "    }\n",
       "</style>\n",
       "<table border=\"1\" class=\"dataframe\">\n",
       "  <thead>\n",
       "    <tr style=\"text-align: right;\">\n",
       "      <th></th>\n",
       "      <th>Country (region)</th>\n",
       "      <th>Ladder</th>\n",
       "      <th>SD of Ladder</th>\n",
       "      <th>Positive affect</th>\n",
       "      <th>Negative affect</th>\n",
       "      <th>Social support</th>\n",
       "      <th>Freedom</th>\n",
       "      <th>Corruption</th>\n",
       "      <th>Generosity</th>\n",
       "      <th>Log of GDP\\nper capita</th>\n",
       "      <th>Healthy life\\nexpectancy</th>\n",
       "      <th>continent</th>\n",
       "    </tr>\n",
       "  </thead>\n",
       "  <tbody>\n",
       "    <tr>\n",
       "      <th>0</th>\n",
       "      <td>Finland</td>\n",
       "      <td>1</td>\n",
       "      <td>4</td>\n",
       "      <td>41.0</td>\n",
       "      <td>10.0</td>\n",
       "      <td>2.0</td>\n",
       "      <td>5.0</td>\n",
       "      <td>4.0</td>\n",
       "      <td>47.0</td>\n",
       "      <td>22.0</td>\n",
       "      <td>27.0</td>\n",
       "      <td>Europe</td>\n",
       "    </tr>\n",
       "    <tr>\n",
       "      <th>1</th>\n",
       "      <td>Denmark</td>\n",
       "      <td>2</td>\n",
       "      <td>13</td>\n",
       "      <td>24.0</td>\n",
       "      <td>26.0</td>\n",
       "      <td>4.0</td>\n",
       "      <td>6.0</td>\n",
       "      <td>3.0</td>\n",
       "      <td>22.0</td>\n",
       "      <td>14.0</td>\n",
       "      <td>23.0</td>\n",
       "      <td>Europe</td>\n",
       "    </tr>\n",
       "  </tbody>\n",
       "</table>\n",
       "</div>"
      ],
      "text/plain": [
       "  Country (region)  Ladder  SD of Ladder  Positive affect  Negative affect  \\\n",
       "0          Finland       1             4             41.0             10.0   \n",
       "1          Denmark       2            13             24.0             26.0   \n",
       "\n",
       "   Social support  Freedom  Corruption  Generosity  Log of GDP\\nper capita  \\\n",
       "0             2.0      5.0         4.0        47.0                    22.0   \n",
       "1             4.0      6.0         3.0        22.0                    14.0   \n",
       "\n",
       "   Healthy life\\nexpectancy continent  \n",
       "0                      27.0    Europe  \n",
       "1                      23.0    Europe  "
      ]
     },
     "execution_count": 77,
     "metadata": {},
     "output_type": "execute_result"
    }
   ],
   "source": [
    "df.head(2)"
   ]
  },
  {
   "cell_type": "markdown",
   "metadata": {},
   "source": [
    "df.rename(columns={'Log of GDP\\nper Capita':'GDP','Healthylife\\nexpectancy':'hl_expectancy'}, inplace=True)\n"
   ]
  },
  {
   "cell_type": "code",
   "execution_count": 78,
   "metadata": {},
   "outputs": [
    {
     "data": {
      "text/html": [
       "<div>\n",
       "<style scoped>\n",
       "    .dataframe tbody tr th:only-of-type {\n",
       "        vertical-align: middle;\n",
       "    }\n",
       "\n",
       "    .dataframe tbody tr th {\n",
       "        vertical-align: top;\n",
       "    }\n",
       "\n",
       "    .dataframe thead th {\n",
       "        text-align: right;\n",
       "    }\n",
       "</style>\n",
       "<table border=\"1\" class=\"dataframe\">\n",
       "  <thead>\n",
       "    <tr style=\"text-align: right;\">\n",
       "      <th></th>\n",
       "      <th>Country (region)</th>\n",
       "      <th>Ladder</th>\n",
       "      <th>SD of Ladder</th>\n",
       "      <th>Positive affect</th>\n",
       "      <th>Negative affect</th>\n",
       "      <th>Social support</th>\n",
       "      <th>Freedom</th>\n",
       "      <th>Corruption</th>\n",
       "      <th>Generosity</th>\n",
       "      <th>Log of GDP\\nper capita</th>\n",
       "      <th>Healthy life\\nexpectancy</th>\n",
       "      <th>continent</th>\n",
       "    </tr>\n",
       "  </thead>\n",
       "  <tbody>\n",
       "    <tr>\n",
       "      <th>0</th>\n",
       "      <td>Finland</td>\n",
       "      <td>1</td>\n",
       "      <td>4</td>\n",
       "      <td>41.0</td>\n",
       "      <td>10.0</td>\n",
       "      <td>2.0</td>\n",
       "      <td>5.0</td>\n",
       "      <td>4.0</td>\n",
       "      <td>47.0</td>\n",
       "      <td>22.0</td>\n",
       "      <td>27.0</td>\n",
       "      <td>Europe</td>\n",
       "    </tr>\n",
       "    <tr>\n",
       "      <th>1</th>\n",
       "      <td>Denmark</td>\n",
       "      <td>2</td>\n",
       "      <td>13</td>\n",
       "      <td>24.0</td>\n",
       "      <td>26.0</td>\n",
       "      <td>4.0</td>\n",
       "      <td>6.0</td>\n",
       "      <td>3.0</td>\n",
       "      <td>22.0</td>\n",
       "      <td>14.0</td>\n",
       "      <td>23.0</td>\n",
       "      <td>Europe</td>\n",
       "    </tr>\n",
       "  </tbody>\n",
       "</table>\n",
       "</div>"
      ],
      "text/plain": [
       "  Country (region)  Ladder  SD of Ladder  Positive affect  Negative affect  \\\n",
       "0          Finland       1             4             41.0             10.0   \n",
       "1          Denmark       2            13             24.0             26.0   \n",
       "\n",
       "   Social support  Freedom  Corruption  Generosity  Log of GDP\\nper capita  \\\n",
       "0             2.0      5.0         4.0        47.0                    22.0   \n",
       "1             4.0      6.0         3.0        22.0                    14.0   \n",
       "\n",
       "   Healthy life\\nexpectancy continent  \n",
       "0                      27.0    Europe  \n",
       "1                      23.0    Europe  "
      ]
     },
     "execution_count": 78,
     "metadata": {},
     "output_type": "execute_result"
    }
   ],
   "source": [
    "df.head(2) "
   ]
  },
  {
   "cell_type": "code",
   "execution_count": 79,
   "metadata": {},
   "outputs": [
    {
     "data": {
      "text/plain": [
       "<matplotlib.axes._subplots.AxesSubplot at 0x13d09b10588>"
      ]
     },
     "execution_count": 79,
     "metadata": {},
     "output_type": "execute_result"
    },
    {
     "data": {
      "image/png": "[encoded data removed]",
      "text/plain": [
       "<Figure size 432x288 with 1 Axes>"
      ]
     },
     "metadata": {
      "needs_background": "light"
     },
     "output_type": "display_data"
    }
   ],
   "source": [
    "sns.scatterplot(x='Corruption',y='Negative affect',data=df, marker='o')"
   ]
  }
 ],
 "metadata": {
  "kernelspec": {
   "display_name": "Python 3",
   "language": "python",
   "name": "python3"
  },
  "language_info": {
   "codemirror_mode": {
    "name": "ipython",
    "version": 3
   },
   "file_extension": ".py",
   "mimetype": "text/x-python",
   "name": "python",
   "nbconvert_exporter": "python",
   "pygments_lexer": "ipython3",
   "version": "3.7.6"
  }
 },
 "nbformat": 4,
 "nbformat_minor": 4
}
